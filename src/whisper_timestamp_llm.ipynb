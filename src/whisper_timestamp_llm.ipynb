{
  "cells": [
    {
      "cell_type": "markdown",
      "source": [
        "## Select / download video"
      ],
      "metadata": {
        "id": "npmnzCOpC0lz"
      }
    },
    {
      "cell_type": "code",
      "execution_count": null,
      "metadata": {
        "id": "D0yhcqVwysnE",
        "colab": {
          "base_uri": "https://localhost:8080/"
        },
        "outputId": "8592efe9-a9c2-4f9f-8a79-8de017ed6222"
      },
      "outputs": [
        {
          "output_type": "stream",
          "name": "stdout",
          "text": [
            "Collecting yt-dlp\n",
            "  Downloading yt_dlp-2024.10.22-py3-none-any.whl.metadata (171 kB)\n",
            "\u001b[?25l     \u001b[90m━━━━━━━━━━━━━━━━━━━━━━━━━━━━━━━━━━━━━━━━\u001b[0m \u001b[32m0.0/171.6 kB\u001b[0m \u001b[31m?\u001b[0m eta \u001b[36m-:--:--\u001b[0m\r\u001b[2K     \u001b[90m━━━━━━━━━━━━━━━━━━━━━━━━━━━━━━━━━━━━━━━━\u001b[0m \u001b[32m171.6/171.6 kB\u001b[0m \u001b[31m5.5 MB/s\u001b[0m eta \u001b[36m0:00:00\u001b[0m\n",
            "\u001b[?25hRequirement already satisfied: moviepy in /usr/local/lib/python3.10/dist-packages (1.0.3)\n",
            "Collecting openai-whisper==20230124\n",
            "  Downloading openai-whisper-20230124.tar.gz (1.2 MB)\n",
            "\u001b[2K     \u001b[90m━━━━━━━━━━━━━━━━━━━━━━━━━━━━━━━━━━━━━━━━\u001b[0m \u001b[32m1.2/1.2 MB\u001b[0m \u001b[31m29.7 MB/s\u001b[0m eta \u001b[36m0:00:00\u001b[0m\n",
            "\u001b[?25h  Preparing metadata (setup.py) ... \u001b[?25l\u001b[?25hdone\n",
            "Collecting whisper-timestamped\n",
            "  Downloading whisper_timestamped-1.15.4-py3-none-any.whl.metadata (1.2 kB)\n",
            "Requirement already satisfied: numpy in /usr/local/lib/python3.10/dist-packages (from openai-whisper==20230124) (1.26.4)\n",
            "Requirement already satisfied: torch in /usr/local/lib/python3.10/dist-packages (from openai-whisper==20230124) (2.5.0+cu121)\n",
            "Requirement already satisfied: tqdm in /usr/local/lib/python3.10/dist-packages (from openai-whisper==20230124) (4.66.5)\n",
            "Requirement already satisfied: more-itertools in /usr/local/lib/python3.10/dist-packages (from openai-whisper==20230124) (10.5.0)\n",
            "Requirement already satisfied: transformers>=4.19.0 in /usr/local/lib/python3.10/dist-packages (from openai-whisper==20230124) (4.44.2)\n",
            "Collecting ffmpeg-python==0.2.0 (from openai-whisper==20230124)\n",
            "  Downloading ffmpeg_python-0.2.0-py3-none-any.whl.metadata (1.7 kB)\n",
            "Requirement already satisfied: future in /usr/local/lib/python3.10/dist-packages (from ffmpeg-python==0.2.0->openai-whisper==20230124) (1.0.0)\n",
            "Collecting brotli (from yt-dlp)\n",
            "  Downloading Brotli-1.1.0-cp310-cp310-manylinux_2_5_x86_64.manylinux1_x86_64.manylinux_2_12_x86_64.manylinux2010_x86_64.whl.metadata (5.5 kB)\n",
            "Requirement already satisfied: certifi in /usr/local/lib/python3.10/dist-packages (from yt-dlp) (2024.8.30)\n",
            "Collecting mutagen (from yt-dlp)\n",
            "  Downloading mutagen-1.47.0-py3-none-any.whl.metadata (1.7 kB)\n",
            "Collecting pycryptodomex (from yt-dlp)\n",
            "  Downloading pycryptodomex-3.21.0-cp36-abi3-manylinux_2_17_x86_64.manylinux2014_x86_64.whl.metadata (3.4 kB)\n",
            "Requirement already satisfied: requests<3,>=2.32.2 in /usr/local/lib/python3.10/dist-packages (from yt-dlp) (2.32.3)\n",
            "Requirement already satisfied: urllib3<3,>=1.26.17 in /usr/local/lib/python3.10/dist-packages (from yt-dlp) (2.2.3)\n",
            "Collecting websockets>=13.0 (from yt-dlp)\n",
            "  Downloading websockets-13.1-cp310-cp310-manylinux_2_5_x86_64.manylinux1_x86_64.manylinux_2_17_x86_64.manylinux2014_x86_64.whl.metadata (6.8 kB)\n",
            "Requirement already satisfied: decorator<5.0,>=4.0.2 in /usr/local/lib/python3.10/dist-packages (from moviepy) (4.4.2)\n",
            "Requirement already satisfied: proglog<=1.0.0 in /usr/local/lib/python3.10/dist-packages (from moviepy) (0.1.10)\n",
            "Requirement already satisfied: imageio<3.0,>=2.5 in /usr/local/lib/python3.10/dist-packages (from moviepy) (2.35.1)\n",
            "Requirement already satisfied: imageio-ffmpeg>=0.2.0 in /usr/local/lib/python3.10/dist-packages (from moviepy) (0.5.1)\n",
            "Requirement already satisfied: Cython in /usr/local/lib/python3.10/dist-packages (from whisper-timestamped) (3.0.11)\n",
            "Collecting dtw-python (from whisper-timestamped)\n",
            "  Downloading dtw_python-1.5.3-cp310-cp310-manylinux_2_17_x86_64.manylinux2014_x86_64.whl.metadata (48 kB)\n",
            "\u001b[2K     \u001b[90m━━━━━━━━━━━━━━━━━━━━━━━━━━━━━━━━━━━━━━━━\u001b[0m \u001b[32m48.1/48.1 kB\u001b[0m \u001b[31m1.8 MB/s\u001b[0m eta \u001b[36m0:00:00\u001b[0m\n",
            "\u001b[?25hRequirement already satisfied: pillow>=8.3.2 in /usr/local/lib/python3.10/dist-packages (from imageio<3.0,>=2.5->moviepy) (10.4.0)\n",
            "Requirement already satisfied: setuptools in /usr/local/lib/python3.10/dist-packages (from imageio-ffmpeg>=0.2.0->moviepy) (75.1.0)\n",
            "Requirement already satisfied: charset-normalizer<4,>=2 in /usr/local/lib/python3.10/dist-packages (from requests<3,>=2.32.2->yt-dlp) (3.4.0)\n",
            "Requirement already satisfied: idna<4,>=2.5 in /usr/local/lib/python3.10/dist-packages (from requests<3,>=2.32.2->yt-dlp) (3.10)\n",
            "Requirement already satisfied: filelock in /usr/local/lib/python3.10/dist-packages (from transformers>=4.19.0->openai-whisper==20230124) (3.16.1)\n",
            "Requirement already satisfied: huggingface-hub<1.0,>=0.23.2 in /usr/local/lib/python3.10/dist-packages (from transformers>=4.19.0->openai-whisper==20230124) (0.24.7)\n",
            "Requirement already satisfied: packaging>=20.0 in /usr/local/lib/python3.10/dist-packages (from transformers>=4.19.0->openai-whisper==20230124) (24.1)\n",
            "Requirement already satisfied: pyyaml>=5.1 in /usr/local/lib/python3.10/dist-packages (from transformers>=4.19.0->openai-whisper==20230124) (6.0.2)\n",
            "Requirement already satisfied: regex!=2019.12.17 in /usr/local/lib/python3.10/dist-packages (from transformers>=4.19.0->openai-whisper==20230124) (2024.9.11)\n",
            "Requirement already satisfied: safetensors>=0.4.1 in /usr/local/lib/python3.10/dist-packages (from transformers>=4.19.0->openai-whisper==20230124) (0.4.5)\n",
            "Requirement already satisfied: tokenizers<0.20,>=0.19 in /usr/local/lib/python3.10/dist-packages (from transformers>=4.19.0->openai-whisper==20230124) (0.19.1)\n",
            "Requirement already satisfied: scipy in /usr/local/lib/python3.10/dist-packages (from dtw-python->whisper-timestamped) (1.13.1)\n",
            "Requirement already satisfied: typing-extensions>=4.8.0 in /usr/local/lib/python3.10/dist-packages (from torch->openai-whisper==20230124) (4.12.2)\n",
            "Requirement already satisfied: networkx in /usr/local/lib/python3.10/dist-packages (from torch->openai-whisper==20230124) (3.4.2)\n",
            "Requirement already satisfied: jinja2 in /usr/local/lib/python3.10/dist-packages (from torch->openai-whisper==20230124) (3.1.4)\n",
            "Requirement already satisfied: fsspec in /usr/local/lib/python3.10/dist-packages (from torch->openai-whisper==20230124) (2024.6.1)\n",
            "Requirement already satisfied: sympy==1.13.1 in /usr/local/lib/python3.10/dist-packages (from torch->openai-whisper==20230124) (1.13.1)\n",
            "Requirement already satisfied: mpmath<1.4,>=1.1.0 in /usr/local/lib/python3.10/dist-packages (from sympy==1.13.1->torch->openai-whisper==20230124) (1.3.0)\n",
            "Requirement already satisfied: MarkupSafe>=2.0 in /usr/local/lib/python3.10/dist-packages (from jinja2->torch->openai-whisper==20230124) (3.0.2)\n",
            "Downloading ffmpeg_python-0.2.0-py3-none-any.whl (25 kB)\n",
            "Downloading yt_dlp-2024.10.22-py3-none-any.whl (3.2 MB)\n",
            "\u001b[2K   \u001b[90m━━━━━━━━━━━━━━━━━━━━━━━━━━━━━━━━━━━━━━━━\u001b[0m \u001b[32m3.2/3.2 MB\u001b[0m \u001b[31m25.0 MB/s\u001b[0m eta \u001b[36m0:00:00\u001b[0m\n",
            "\u001b[?25hDownloading whisper_timestamped-1.15.4-py3-none-any.whl (53 kB)\n",
            "\u001b[2K   \u001b[90m━━━━━━━━━━━━━━━━━━━━━━━━━━━━━━━━━━━━━━━━\u001b[0m \u001b[32m53.5/53.5 kB\u001b[0m \u001b[31m2.7 MB/s\u001b[0m eta \u001b[36m0:00:00\u001b[0m\n",
            "\u001b[?25hDownloading websockets-13.1-cp310-cp310-manylinux_2_5_x86_64.manylinux1_x86_64.manylinux_2_17_x86_64.manylinux2014_x86_64.whl (164 kB)\n",
            "\u001b[2K   \u001b[90m━━━━━━━━━━━━━━━━━━━━━━━━━━━━━━━━━━━━━━━━\u001b[0m \u001b[32m164.1/164.1 kB\u001b[0m \u001b[31m9.5 MB/s\u001b[0m eta \u001b[36m0:00:00\u001b[0m\n",
            "\u001b[?25hDownloading Brotli-1.1.0-cp310-cp310-manylinux_2_5_x86_64.manylinux1_x86_64.manylinux_2_12_x86_64.manylinux2010_x86_64.whl (3.0 MB)\n",
            "\u001b[2K   \u001b[90m━━━━━━━━━━━━━━━━━━━━━━━━━━━━━━━━━━━━━━━━\u001b[0m \u001b[32m3.0/3.0 MB\u001b[0m \u001b[31m36.7 MB/s\u001b[0m eta \u001b[36m0:00:00\u001b[0m\n",
            "\u001b[?25hDownloading dtw_python-1.5.3-cp310-cp310-manylinux_2_17_x86_64.manylinux2014_x86_64.whl (764 kB)\n",
            "\u001b[2K   \u001b[90m━━━━━━━━━━━━━━━━━━━━━━━━━━━━━━━━━━━━━━━━\u001b[0m \u001b[32m764.7/764.7 kB\u001b[0m \u001b[31m21.2 MB/s\u001b[0m eta \u001b[36m0:00:00\u001b[0m\n",
            "\u001b[?25hDownloading mutagen-1.47.0-py3-none-any.whl (194 kB)\n",
            "\u001b[2K   \u001b[90m━━━━━━━━━━━━━━━━━━━━━━━━━━━━━━━━━━━━━━━━\u001b[0m \u001b[32m194.4/194.4 kB\u001b[0m \u001b[31m6.6 MB/s\u001b[0m eta \u001b[36m0:00:00\u001b[0m\n",
            "\u001b[?25hDownloading pycryptodomex-3.21.0-cp36-abi3-manylinux_2_17_x86_64.manylinux2014_x86_64.whl (2.3 MB)\n",
            "\u001b[2K   \u001b[90m━━━━━━━━━━━━━━━━━━━━━━━━━━━━━━━━━━━━━━━━\u001b[0m \u001b[32m2.3/2.3 MB\u001b[0m \u001b[31m33.3 MB/s\u001b[0m eta \u001b[36m0:00:00\u001b[0m\n",
            "\u001b[?25hBuilding wheels for collected packages: openai-whisper\n",
            "  Building wheel for openai-whisper (setup.py) ... \u001b[?25l\u001b[?25hdone\n",
            "  Created wheel for openai-whisper: filename=openai_whisper-20230124-py3-none-any.whl size=1179308 sha256=b94174083a9598e9a5df468eddd348919dc7e3afb91551dfcc7951139613b796\n",
            "  Stored in directory: /root/.cache/pip/wheels/ed/9c/6d/9df9e633b11625901f05fbf6b7bb89aa365705be1f1aa65c7d\n",
            "Successfully built openai-whisper\n",
            "Installing collected packages: brotli, websockets, pycryptodomex, mutagen, ffmpeg-python, yt-dlp, dtw-python, openai-whisper, whisper-timestamped\n",
            "Successfully installed brotli-1.1.0 dtw-python-1.5.3 ffmpeg-python-0.2.0 mutagen-1.47.0 openai-whisper-20230124 pycryptodomex-3.21.0 websockets-13.1 whisper-timestamped-1.15.4 yt-dlp-2024.10.22\n"
          ]
        }
      ],
      "source": [
        "!pip install yt-dlp moviepy openai-whisper==20230124 whisper-timestamped"
      ]
    },
    {
      "cell_type": "code",
      "execution_count": null,
      "metadata": {
        "colab": {
          "base_uri": "https://localhost:8080/"
        },
        "id": "cYxy-E-lysnG",
        "outputId": "afeb851a-595f-4a1a-e1e9-72379bea42bd"
      },
      "outputs": [
        {
          "output_type": "stream",
          "name": "stdout",
          "text": [
            "Importing the dtw module. When using in academic works please cite:\n",
            "  T. Giorgino. Computing and Visualizing Dynamic Time Warping Alignments in R: The dtw Package.\n",
            "  J. Stat. Soft., doi:10.18637/jss.v031.i07.\n",
            "\n"
          ]
        },
        {
          "output_type": "stream",
          "name": "stderr",
          "text": [
            "WARNING:py.warnings:/usr/local/lib/python3.10/dist-packages/moviepy/video/io/sliders.py:61: SyntaxWarning: \"is\" with a literal. Did you mean \"==\"?\n",
            "  if event.key is 'enter':\n",
            "\n"
          ]
        }
      ],
      "source": [
        "import os\n",
        "import json\n",
        "import numpy as np\n",
        "import whisper_timestamped\n",
        "from moviepy.editor import VideoFileClip\n",
        "import yt_dlp"
      ]
    },
    {
      "cell_type": "code",
      "execution_count": null,
      "metadata": {
        "id": "bSjZEoN7ysnG"
      },
      "outputs": [],
      "source": [
        "def download_audio_from_youtube(url):\n",
        "    try:\n",
        "        ydl_opts = {\n",
        "            'format': 'bestaudio/best',\n",
        "            'outtmpl': '%(id)s.%(ext)s',\n",
        "            'postprocessors': [{\n",
        "                'key': 'FFmpegExtractAudio',\n",
        "                'preferredcodec': 'wav',\n",
        "                'preferredquality': '192',\n",
        "            }],\n",
        "        }\n",
        "\n",
        "        with yt_dlp.YoutubeDL(ydl_opts) as ydl:\n",
        "            info_dict = ydl.extract_info(url, download=True)\n",
        "            audio_file = f\"{info_dict['id']}.wav\"\n",
        "            return audio_file\n",
        "\n",
        "    except Exception as e:\n",
        "        return str(e)"
      ]
    },
    {
      "cell_type": "code",
      "execution_count": null,
      "metadata": {
        "id": "CTDDQyduysnH"
      },
      "outputs": [],
      "source": [
        "def extract_audio_from_video(video_file):\n",
        "    try:\n",
        "        audio_file = \"extracted_audio.wav\"\n",
        "        video_clip = VideoFileClip(video_file)\n",
        "        video_clip.audio.write_audiofile(audio_file, codec='pcm_s16le', ffmpeg_params=[\"-ac\", \"1\", \"-ar\", \"16000\"])\n",
        "        return audio_file\n",
        "\n",
        "    except Exception as e:\n",
        "        return str(e)"
      ]
    },
    {
      "cell_type": "code",
      "execution_count": null,
      "metadata": {
        "id": "qCMu79OpysnH"
      },
      "outputs": [],
      "source": [
        "def process_audio(audio_file):\n",
        "    try:\n",
        "        print(\"Processing audio file:\", os.path.abspath(audio_file))\n",
        "        if not os.path.exists(audio_file):\n",
        "            return \"Audio file does not exist.\"\n",
        "\n",
        "        audio = whisper_timestamped.load_audio(audio_file)\n",
        "        audio = audio / np.max(np.abs(audio))\n",
        "        model = whisper_timestamped.load_model(\"base\", device=\"cpu\")\n",
        "        result = whisper_timestamped.transcribe_timestamped(model, audio, language=\"en\")\n",
        "\n",
        "        # Save results to SRT file\n",
        "        writer = whisper_timestamped.utils.get_writer(\"srt\", \".\")\n",
        "        writer(result, \"output\")\n",
        "        print(f\"SRT file saved: transcription.srt\")\n",
        "\n",
        "        # Save results to JSON file\n",
        "        json_output_file = \"output.json\"\n",
        "        with open(json_output_file, 'w', encoding='utf-8') as json_file:\n",
        "            json.dump(result, json_file, indent=2, ensure_ascii=False)\n",
        "        print(f\"JSON file saved: {json_output_file}\")\n",
        "\n",
        "        return \"Transcription completed\"\n",
        "\n",
        "    except Exception as e:\n",
        "        return str(e)"
      ]
    },
    {
      "cell_type": "markdown",
      "source": [
        "Use Youtube link"
      ],
      "metadata": {
        "id": "Vh7t4PoN0_3w"
      }
    },
    {
      "cell_type": "code",
      "execution_count": null,
      "metadata": {
        "colab": {
          "base_uri": "https://localhost:8080/"
        },
        "id": "rTD8RNK6ysnH",
        "outputId": "5874f7f3-715b-4f2a-c607-f3c457d5368b"
      },
      "outputs": [
        {
          "output_type": "stream",
          "name": "stdout",
          "text": [
            "[youtube] Extracting URL: https://www.youtube.com/watch?v=XdqPpRRewrE\n",
            "[youtube] XdqPpRRewrE: Downloading webpage\n",
            "[youtube] XdqPpRRewrE: Downloading ios player API JSON\n",
            "[youtube] XdqPpRRewrE: Downloading mweb player API JSON\n",
            "[youtube] XdqPpRRewrE: Downloading m3u8 information\n",
            "[info] XdqPpRRewrE: Downloading 1 format(s): 251\n",
            "[download] Destination: XdqPpRRewrE.webm\n",
            "[download] 100% of   15.98MiB in 00:00:00 at 27.27MiB/s  \n",
            "[ExtractAudio] Destination: XdqPpRRewrE.wav\n",
            "Deleting original file XdqPpRRewrE.webm (pass -k to keep)\n",
            "Processing audio file: /content/XdqPpRRewrE.wav\n"
          ]
        },
        {
          "output_type": "stream",
          "name": "stderr",
          "text": [
            "WARNING:py.warnings:/usr/local/lib/python3.10/dist-packages/whisper/__init__.py:115: FutureWarning: You are using `torch.load` with `weights_only=False` (the current default value), which uses the default pickle module implicitly. It is possible to construct malicious pickle data which will execute arbitrary code during unpickling (See https://github.com/pytorch/pytorch/blob/main/SECURITY.md#untrusted-models for more details). In a future release, the default value for `weights_only` will be flipped to `True`. This limits the functions that could be executed during unpickling. Arbitrary objects will no longer be allowed to be loaded via this mode unless they are explicitly allowlisted by the user via `torch.serialization.add_safe_globals`. We recommend you start setting `weights_only=True` for any use case where you don't have full control of the loaded file. Please open an issue on GitHub for any issues related to this experimental feature.\n",
            "  checkpoint = torch.load(fp, map_location=device)\n",
            "\n",
            "WARNING:py.warnings:/usr/local/lib/python3.10/dist-packages/transformers/tokenization_utils_base.py:1601: FutureWarning: `clean_up_tokenization_spaces` was not set. It will be set to `True` by default. This behavior will be depracted in transformers v4.45, and will be then set to `False` by default. For more details check this issue: https://github.com/huggingface/transformers/issues/31884\n",
            "  warnings.warn(\n",
            "\n",
            "100%|██████████| 111395/111395 [07:10<00:00, 258.53frames/s]\n"
          ]
        },
        {
          "output_type": "stream",
          "name": "stdout",
          "text": [
            "SRT file saved: transcription.srt\n",
            "JSON file saved: output.json\n",
            "Transcription completed\n"
          ]
        }
      ],
      "source": [
        "youtube_url = 'https://www.youtube.com/watch?v=XdqPpRRewrE'  # Change this to YouTube URL\n",
        "audio_file = download_audio_from_youtube(youtube_url)\n",
        "if audio_file:\n",
        "    result = process_audio(audio_file)\n",
        "    print(result)"
      ]
    },
    {
      "cell_type": "markdown",
      "source": [
        "Use local path"
      ],
      "metadata": {
        "id": "0t5Gm-Gs1CxA"
      }
    },
    {
      "cell_type": "code",
      "execution_count": null,
      "metadata": {
        "colab": {
          "base_uri": "https://localhost:8080/"
        },
        "id": "oo6FyujxysnI",
        "outputId": "6ca1a24a-2229-47a2-dbea-3f4fa50dc57c"
      },
      "outputs": [
        {
          "output_type": "stream",
          "name": "stdout",
          "text": [
            "Processing audio file: /content/MoviePy error: the file path_to_your_video_file.mp4 could not be found!\n",
            "Please check that you entered the correct path.\n",
            "Audio file does not exist.\n"
          ]
        }
      ],
      "source": [
        "video_file = 'path_to_your_video_file.mp4'  # Change this to video file path\n",
        "audio_file = extract_audio_from_video(video_file)\n",
        "if audio_file:\n",
        "    result = process_audio(audio_file)\n",
        "    print(result)"
      ]
    },
    {
      "cell_type": "markdown",
      "source": [
        "## Extract text"
      ],
      "metadata": {
        "id": "8_SKONIbC9bo"
      }
    },
    {
      "cell_type": "code",
      "source": [
        "import json"
      ],
      "metadata": {
        "id": "Lgk8iUdQDOIt"
      },
      "execution_count": null,
      "outputs": []
    },
    {
      "cell_type": "code",
      "source": [
        "file_path = 'output.json'\n",
        "\n",
        "with open(file_path, 'r') as file:\n",
        "    data = json.load(file)\n",
        "\n",
        "print(data[\"text\"])"
      ],
      "metadata": {
        "colab": {
          "base_uri": "https://localhost:8080/"
        },
        "id": "SB0NUIZWDBXf",
        "outputId": "35885c31-44dd-49cc-ff0a-a18c1059b0c3"
      },
      "execution_count": null,
      "outputs": [
        {
          "output_type": "stream",
          "name": "stdout",
          "text": [
            " Okay, let's talk about why we make bad decisions. So if you're like me, then you've probably been in that situation where it's the end of the day or it's the morning and you're thinking like, okay, I'm going to make a solid plan for myself. Today, I'm going to be disciplined. I'm going to come home from work and I'm going to get all these errands done and I'm going to treat myself really well. I'm going to make a nice, healthy, proper meal. I'm going to go to the gym afterwards. I'm going to exercise and then maybe when I come home, I'll like start reading a book or something. I'll do something a little different. Something that makes me feel like I'm going to advance my life in a new, positive direction. This is our real life volition and it's there to lead you on your way to making good life decisions. But this doesn't always work out that way. Sometimes you get to the end of the day and you realize that you haven't been very disciplined. At all. A lot of those errands are still incomplete or half-started. We didn't end up going to the gym and instead of making a proper meal, we've ordered some definitely not healthy takeout food. And instead of reading that book, maybe you end up watching a show you've already seen and we've not advanced our life in a positive, meaningful direction in any way at all. What is happening here? Why would we ignore the voice of volition that's telling us to do all of these beneficial positive things? Well, it could be a lot of things, honestly. And definitely having a mental health diagnosis is going to amplify this problem a lot more. But even for the average person, this happens pretty often. I mean, it certainly happens to me. So what I wanted to share with you today is a framework for understanding why this problem happens and what we can actually do about it. This is a real problem that actually comes up in my work as a therapist kind of often. And I have really enjoyed seeing it demonstrated so clearly and given such a unique role within the structure of a game like Disco Elysium has. So okay, there is a reason that we do not always follow the voice of volition and go through with our good intentions. And it has to do with something called psychological friction. So in this context, friction is any force either internal or external, which opposes a behavioral change. So what do we know about like regular friction, right? If I am standing on an ice rink and I move my body weight around a little bit, I'm going to start sliding around on the ice. There's not a lot of friction between me and the surface that's under me. When I step off the ice and now I'm standing on concrete, when I shift myself around, I don't move, right? There is a lot more friction between me and the ground. And psychologically, this principle is basically the same thing. If you imagine you're trying to do something, it's going to be much harder if there is more friction between you and the process and it's going to be much easier if there is less friction. When friction is introduced and we'll talk about what kinds of friction are very common, the process tends to slow down. We tend to have a harder time actually completing the thing we're trying to do and it's much more likely that we're going to give up. When there is less friction or we find a way to reduce the friction that's there, the process can start to speed up again and we'll find more motivation to actually keep working on it. Really we can kind of think of this how habits work, right? When you're trying to do something new, it can be hard to stay motivated and be consistent and be very disciplined in it. We have to be very rigorous and consistent with things before they start to get easier and we have to do less work to get ourselves in the mindset to do it. Like if we're trying to start an exercise, regiment or something, so there's a lot of friction between us and this new behavioral change. Things start to get easier when we learn more about that process and we start developing sort of like the mental tricks to get ourselves into that kind of mode where we want to do it. We don't have to convince ourselves anymore and our stamina to do the thing that's difficult starts to go up and there's a lot less friction here. We start to develop that habit when the process becomes streamlined and simplified and we have to do less of the psychological work to get ourselves moving on it. So basically the things that we tend to do the most and the patterns of behavior that we tend to repeat are those where the amount of friction between us and the process is very minimal. So this is part of why when we tell ourselves we're going to do all of these nice things, a lot of friction tends to get introduced in that process because thinking about doing all of those things isn't really that hard but when it comes down to it, it takes an extra layer of scheduling and timing and trying to like balance your energy throughout the day, you better make sure that you slept enough, ate well enough to that you're hydrated, that you actually have the motivation at the time you're trying to do that thing to actually start it. Honestly, at the end of a long day we're not typically still in the high motivation state that we were at the beginning of the day when volition was telling us how awesome we're going to be sometime later. We are not always interested or capable sometimes of fighting against all of the friction that has found us along the way. So we choose things that are less difficult, right? The kinds of habits that we've already formed that we know work that don't require a lot of mental fortitude to carry out. Volition asks us to do things which are good for us but that they are difficult to accomplish. And so it's often the voices of half-light or electrochemistry that give us other options and don't ask us to fight against a bunch of friction. They just want us to chase whatever impulse makes sense in the moment. You should tell people to f*** off more often. I should. I should do that. Then you shouldn't. You're an officer of the law. Maybe I shouldn't. So this has been really fascinating to see portrayed in disco-alecium because in my playthrough I've been kind of role-playing and demonstrating this whole problem, right? And so sometimes volition will chime in with a thought and I just ignore it. And I go do something that for a lot of people looks like it's not really within my character's best interest and they're right. But that's how people are. We are kind of walking contradictions. We just don't always act in our own best interests. Like I said, even though the thought to do something good is available to us, that doesn't mean we're actually going to do it. In fact, we're very keenly aware a lot of the times that we are doing something that's not in our best interest. And we're pulling the ice cream out of the fridge and telling ourselves along the way I really shouldn't. But I'm gonna anyway. So this is a real problem, right? And the game is so good at demonstrating this. So what do you do about this, right? I like the word friction because it gives us a very easy framework to understand. And so when I'm working with someone who is struggling with motivation or a lot of times we're sort of questioning, like, I'm very passionate about this thing, but I don't find myself doing it a lot. Like I don't know what's wrong with me. Maybe I've lost interest in it. That's where we may start to ask the question, okay, well, what kind of friction is in this process for you and how might we start to work to reduce it? And the best place to start is actually trying to understand whether this friction is even real or not because that's the thing. There is real psychological friction and perceived psychological friction. Now, that is not to say that friction by itself is a bad thing. In fact, there are some cases where introducing friction to some sort of behavioral process is actually a good thing. Think about an addiction, for example, right, which is a big part of dysgolism where the habit to seek and use a substance has become very normalized for us and we're always looking to have the least amount of friction between us and continuing that substance use. And so actually when you're trying to work on breaking a habit or lower the chances that an addiction develops, you actually want to introduce friction to the process. Essentially, making things harder is going to slow down and make completely interrupt the process that we are trying to change. This is why when people are trying to quit a substance, they typically go to a detox center and then they go into full rehabilitation. And that's to completely separate themselves from the environment and all of the social and psychological issues which made repeating that pattern of behavior very easy. We want to introduce a ton of friction to this person's life temporarily so that we can learn to develop better strategies to cope with the issues that resulted in some sort of addiction. So this was all pretty well demonstrated in my own playthrough in which we spent a lot of time trying to find a way to buy a pack of cigarettes and I was explaining how when we have a chemical dependence on something, we are often going to prioritize that over most other things, higher order things like solving a crime or strengthening our relationships. Also the thought pattern may have been something like, okay, well, our character wants to smoke. How do I do that? What's the simplest path here? I want to find the way with the least amount of friction like I need this now. So we go into Frita and Frita girl is there. And she tells us that we don't have the money for cigarettes. There's a way that we can get the money for cigarettes. What we can do is we can collect tear and tear is trash. And so what we can do is try to find a bag so that we can pick up all the tear and revisher and we'll spend as much time as we need to collecting this so that we can go and buy the cigarettes. And that sounds like kind of a difficult drawn out process. And it was, however, there was less friction in doing that than there would be if I tried to solve this murder without the stimulant that my body is craving. I may have been telling myself, look, this whole detective thing is just way too hard without a buzz. There's too much friction. I can't talk to people. I can't think straight. I'm going to do this other thing that's still difficult, but maybe it will help reduce the amount of friction in this other bigger, more difficult task. And then we'll go do it. And that is an example of totally made up perceived fake friction. Like smoking cigarettes doesn't actually make us a better detective. Like, it gives us maybe a false sense of like plus one to our intellect. But we may have convinced ourselves as many people who are struggling with substances do that we are inadequate or unable to perform a certain task without this thing. And so like we look at that and say, no, there's too much friction. I can't do that. It's too hard. Having this substance will make it easier. When really what we have done is just choose something that's equally hard and we're reinforcing a bad pattern of behavior. And one that's pretty bad for us. So that was a demonstration of the perceived kind of friction, right? Then this happened again, nearing the end of our first day in Revishall, in which my character had also been searching for ways to drink alcohol. And so we come to the end of the day and we hadn't really found any opportunities to do that besides like licking some alcohol off of a table. But so we're standing there at the end of the day and we're talking to Gart who is the manager of the whirling and rags and we're asking him like, can I buy a drink? Look I've had a long day, okay? I spent most of it looking for cigarettes and then I did a little bit of detective work and it has tired me out, okay? Now I need the other substance that I'm dependent on to sleep all of this off. And that's when Gart tells us like, dude, I'm not the bartender, okay? I don't actually serve drinks here. Find another way to get drunk. You know what? The impact of rejection is stronger than the impulse to drink from my guy right now as a sorry cop. I abandoned, I'm going to abandon the desire to drink because I am too ashamed to ask further. He effectively made it more difficult for us to do this and in my mind and in simulating the character's perspective, like we decided that this was just too much work, right? Like we're already tired enough. Who knows how much more time and effort and money this was going to take to get some alcohol, right? And so we gave up. There was too much friction introduced to the process that it would involve talking to people, it would have involved budgeting, it would have involved embarrassing ourselves even more. And so with a lot of friction introduced to the process, this slowed down and has the potential to completely interrupt the problem behavior. So I just find this whole thing fascinating that the voice of Elisha represents what is in real life just our good intentions to make healthy balance decisions for ourselves. And yet typically the things that it wants us to do require a lot of effort, a lot of deep behavioral changes and there are often a lot of barriers in between us and doing them. And here you have like other voices which have not so great intentions for us in competition with volition and there's way less friction involved in those. And so we chase those impulses even though we know we shouldn't. That is just real life. And I love Disco Elysium for this. It's been one of my favorite parts of the game so far. So what can you take away from this? Consider a change that you've been trying to make recently or a habit that you're trying to break and ask yourself, like what is the friction involved in this process, right? Like what is making it hard for me to make this good change? And is that a real source of friction or is it one that I'm kind of like perceiving? Because at the end of the day we choose to ignore a volition even though we know it's there and that it actually wants something better for us. I genuinely think that making a change is not always about working harder at something. In fact, a lot of times I think it's about making the process easier, right? Simpler, streamlined, with the least amount of friction. And you may find that over time, just like any other habit, the more you train yourself to detect and resolve the sources of friction in your life, you actually find it a little easier to listen to volition when it talks to you. So that is why we ignore a volition in real life. I am very curious to hear what all of you think about this. And if there's anything that you can think of that is a source of friction in your life that you may not even even really know is there. So far, disco-aliceum has been amazing at like bringing together real mental health with practical game mechanics. And I find that really fun to talk about. So I'm also curious if there's other games and other systems in them that you think would be worthy of this kind of analysis as well. Who knows? Maybe this could be like a series or something where we talk about like the crossover between game design and mental health and how mechanics can represent real cognitive structures that we use and deal with every day. So thank you for watching my video. I hope you enjoyed it. Yeah, let me know if you'd like to hear more of this kind of discussion with other game mechanics. And if you want to see more of where these ideas are kind of taking shape and the discussions we're having about them, we're currently uploading a full Let's Play of disco-aliceum with lots of like psychological analysis intermixed in that. So subscribe if you want to catch those as they release or other standalone analyses like this one. Right now these two are the friction between me and finishing this video. It's okay, I love them. So with that said, I will see you guys next time. I'm going to go try to make some of my own good decisions right now.\n"
          ]
        }
      ]
    },
    {
      "cell_type": "code",
      "source": [
        "# Extract the desired features\n",
        "word_timings = []\n",
        "for segment in data['segments']:\n",
        "    for word in segment['words']:\n",
        "        word_timing = {\n",
        "            'text': word['text'],\n",
        "            'start': word['start'],\n",
        "            'end': word['end']\n",
        "        }\n",
        "        word_timings.append(word_timing)\n",
        "\n",
        "# Print the total number of words extracted\n",
        "print(f\"Total words extracted: {len(word_timings)}\")\n",
        "\n",
        "# Print the last few entries to verify\n",
        "print(\"Last 5 entries:\")\n",
        "for entry in word_timings[-5:]:\n",
        "    print(entry)\n",
        "\n",
        "# Optionally, save to a new JSON file\n",
        "with open('extracted_word_timings.json', 'w') as outfile:\n",
        "    json.dump(word_timings, outfile, indent=2)\n",
        "\n",
        "print(\"Extracted data saved to 'extracted_word_timings.json'\")"
      ],
      "metadata": {
        "colab": {
          "base_uri": "https://localhost:8080/"
        },
        "id": "FNbNTm_RDQNy",
        "outputId": "0ef8d7ed-c839-4331-bbed-a7606121a11e"
      },
      "execution_count": null,
      "outputs": [
        {
          "output_type": "stream",
          "name": "stdout",
          "text": [
            "Total words extracted: 3009\n",
            "Last 5 entries:\n",
            "{'text': 'own', 'start': 1096.54, 'end': 1096.68}\n",
            "{'text': 'good', 'start': 1096.68, 'end': 1096.9}\n",
            "{'text': 'decisions', 'start': 1096.9, 'end': 1097.32}\n",
            "{'text': 'right', 'start': 1097.32, 'end': 1097.9}\n",
            "{'text': 'now.', 'start': 1097.9, 'end': 1098.14}\n",
            "Extracted data saved to 'extracted_word_timings.json'\n"
          ]
        }
      ]
    },
    {
      "cell_type": "markdown",
      "source": [
        "Segament with ."
      ],
      "metadata": {
        "id": "njtMlq0Qk-Ya"
      }
    },
    {
      "cell_type": "code",
      "source": [
        "import re"
      ],
      "metadata": {
        "id": "QTIuu4J5mVTI"
      },
      "execution_count": null,
      "outputs": []
    },
    {
      "cell_type": "code",
      "source": [
        "sentences = re.split(r'[.?!]', data[\"text\"])\n",
        "sentences = [sentence.strip() for sentence in sentences if sentence]"
      ],
      "metadata": {
        "id": "IVN7e_zvjFIw"
      },
      "execution_count": null,
      "outputs": []
    },
    {
      "cell_type": "code",
      "source": [
        "for i in range(len(sentences)):\n",
        "  print(sentences[i])"
      ],
      "metadata": {
        "colab": {
          "base_uri": "https://localhost:8080/"
        },
        "id": "54xA3IzbjmE_",
        "outputId": "e781fdad-aefc-4da8-ba69-a363f0f50357"
      },
      "execution_count": null,
      "outputs": [
        {
          "output_type": "stream",
          "name": "stdout",
          "text": [
            "Okay, let's talk about why we make bad decisions\n",
            "So if you're like me, then you've probably been in that situation where it's the end of the day or it's the morning and you're thinking like, okay, I'm going to make a solid plan for myself\n",
            "Today, I'm going to be disciplined\n",
            "I'm going to come home from work and I'm going to get all these errands done and I'm going to treat myself really well\n",
            "I'm going to make a nice, healthy, proper meal\n",
            "I'm going to go to the gym afterwards\n",
            "I'm going to exercise and then maybe when I come home, I'll like start reading a book or something\n",
            "I'll do something a little different\n",
            "Something that makes me feel like I'm going to advance my life in a new, positive direction\n",
            "This is our real life volition and it's there to lead you on your way to making good life decisions\n",
            "But this doesn't always work out that way\n",
            "Sometimes you get to the end of the day and you realize that you haven't been very disciplined\n",
            "At all\n",
            "A lot of those errands are still incomplete or half-started\n",
            "We didn't end up going to the gym and instead of making a proper meal, we've ordered some definitely not healthy takeout food\n",
            "And instead of reading that book, maybe you end up watching a show you've already seen and we've not advanced our life in a positive, meaningful direction in any way at all\n",
            "What is happening here\n",
            "Why would we ignore the voice of volition that's telling us to do all of these beneficial positive things\n",
            "Well, it could be a lot of things, honestly\n",
            "And definitely having a mental health diagnosis is going to amplify this problem a lot more\n",
            "But even for the average person, this happens pretty often\n",
            "I mean, it certainly happens to me\n",
            "So what I wanted to share with you today is a framework for understanding why this problem happens and what we can actually do about it\n",
            "This is a real problem that actually comes up in my work as a therapist kind of often\n",
            "And I have really enjoyed seeing it demonstrated so clearly and given such a unique role within the structure of a game like Disco Elysium has\n",
            "So okay, there is a reason that we do not always follow the voice of volition and go through with our good intentions\n",
            "And it has to do with something called psychological friction\n",
            "So in this context, friction is any force either internal or external, which opposes a behavioral change\n",
            "So what do we know about like regular friction, right\n",
            "If I am standing on an ice rink and I move my body weight around a little bit, I'm going to start sliding around on the ice\n",
            "There's not a lot of friction between me and the surface that's under me\n",
            "When I step off the ice and now I'm standing on concrete, when I shift myself around, I don't move, right\n",
            "There is a lot more friction between me and the ground\n",
            "And psychologically, this principle is basically the same thing\n",
            "If you imagine you're trying to do something, it's going to be much harder if there is more friction between you and the process and it's going to be much easier if there is less friction\n",
            "When friction is introduced and we'll talk about what kinds of friction are very common, the process tends to slow down\n",
            "We tend to have a harder time actually completing the thing we're trying to do and it's much more likely that we're going to give up\n",
            "When there is less friction or we find a way to reduce the friction that's there, the process can start to speed up again and we'll find more motivation to actually keep working on it\n",
            "Really we can kind of think of this how habits work, right\n",
            "When you're trying to do something new, it can be hard to stay motivated and be consistent and be very disciplined in it\n",
            "We have to be very rigorous and consistent with things before they start to get easier and we have to do less work to get ourselves in the mindset to do it\n",
            "Like if we're trying to start an exercise, regiment or something, so there's a lot of friction between us and this new behavioral change\n",
            "Things start to get easier when we learn more about that process and we start developing sort of like the mental tricks to get ourselves into that kind of mode where we want to do it\n",
            "We don't have to convince ourselves anymore and our stamina to do the thing that's difficult starts to go up and there's a lot less friction here\n",
            "We start to develop that habit when the process becomes streamlined and simplified and we have to do less of the psychological work to get ourselves moving on it\n",
            "So basically the things that we tend to do the most and the patterns of behavior that we tend to repeat are those where the amount of friction between us and the process is very minimal\n",
            "So this is part of why when we tell ourselves we're going to do all of these nice things, a lot of friction tends to get introduced in that process because thinking about doing all of those things isn't really that hard but when it comes down to it, it takes an extra layer of scheduling and timing and trying to like balance your energy throughout the day, you better make sure that you slept enough, ate well enough to that you're hydrated, that you actually have the motivation at the time you're trying to do that thing to actually start it\n",
            "Honestly, at the end of a long day we're not typically still in the high motivation state that we were at the beginning of the day when volition was telling us how awesome we're going to be sometime later\n",
            "We are not always interested or capable sometimes of fighting against all of the friction that has found us along the way\n",
            "So we choose things that are less difficult, right\n",
            "The kinds of habits that we've already formed that we know work that don't require a lot of mental fortitude to carry out\n",
            "Volition asks us to do things which are good for us but that they are difficult to accomplish\n",
            "And so it's often the voices of half-light or electrochemistry that give us other options and don't ask us to fight against a bunch of friction\n",
            "They just want us to chase whatever impulse makes sense in the moment\n",
            "You should tell people to f*** off more often\n",
            "I should\n",
            "I should do that\n",
            "Then you shouldn't\n",
            "You're an officer of the law\n",
            "Maybe I shouldn't\n",
            "So this has been really fascinating to see portrayed in disco-alecium because in my playthrough I've been kind of role-playing and demonstrating this whole problem, right\n",
            "And so sometimes volition will chime in with a thought and I just ignore it\n",
            "And I go do something that for a lot of people looks like it's not really within my character's best interest and they're right\n",
            "But that's how people are\n",
            "We are kind of walking contradictions\n",
            "We just don't always act in our own best interests\n",
            "Like I said, even though the thought to do something good is available to us, that doesn't mean we're actually going to do it\n",
            "In fact, we're very keenly aware a lot of the times that we are doing something that's not in our best interest\n",
            "And we're pulling the ice cream out of the fridge and telling ourselves along the way I really shouldn't\n",
            "But I'm gonna anyway\n",
            "So this is a real problem, right\n",
            "And the game is so good at demonstrating this\n",
            "So what do you do about this, right\n",
            "I like the word friction because it gives us a very easy framework to understand\n",
            "And so when I'm working with someone who is struggling with motivation or a lot of times we're sort of questioning, like, I'm very passionate about this thing, but I don't find myself doing it a lot\n",
            "Like I don't know what's wrong with me\n",
            "Maybe I've lost interest in it\n",
            "That's where we may start to ask the question, okay, well, what kind of friction is in this process for you and how might we start to work to reduce it\n",
            "And the best place to start is actually trying to understand whether this friction is even real or not because that's the thing\n",
            "There is real psychological friction and perceived psychological friction\n",
            "Now, that is not to say that friction by itself is a bad thing\n",
            "In fact, there are some cases where introducing friction to some sort of behavioral process is actually a good thing\n",
            "Think about an addiction, for example, right, which is a big part of dysgolism where the habit to seek and use a substance has become very normalized for us and we're always looking to have the least amount of friction between us and continuing that substance use\n",
            "And so actually when you're trying to work on breaking a habit or lower the chances that an addiction develops, you actually want to introduce friction to the process\n",
            "Essentially, making things harder is going to slow down and make completely interrupt the process that we are trying to change\n",
            "This is why when people are trying to quit a substance, they typically go to a detox center and then they go into full rehabilitation\n",
            "And that's to completely separate themselves from the environment and all of the social and psychological issues which made repeating that pattern of behavior very easy\n",
            "We want to introduce a ton of friction to this person's life temporarily so that we can learn to develop better strategies to cope with the issues that resulted in some sort of addiction\n",
            "So this was all pretty well demonstrated in my own playthrough in which we spent a lot of time trying to find a way to buy a pack of cigarettes and I was explaining how when we have a chemical dependence on something, we are often going to prioritize that over most other things, higher order things like solving a crime or strengthening our relationships\n",
            "Also the thought pattern may have been something like, okay, well, our character wants to smoke\n",
            "How do I do that\n",
            "What's the simplest path here\n",
            "I want to find the way with the least amount of friction like I need this now\n",
            "So we go into Frita and Frita girl is there\n",
            "And she tells us that we don't have the money for cigarettes\n",
            "There's a way that we can get the money for cigarettes\n",
            "What we can do is we can collect tear and tear is trash\n",
            "And so what we can do is try to find a bag so that we can pick up all the tear and revisher and we'll spend as much time as we need to collecting this so that we can go and buy the cigarettes\n",
            "And that sounds like kind of a difficult drawn out process\n",
            "And it was, however, there was less friction in doing that than there would be if I tried to solve this murder without the stimulant that my body is craving\n",
            "I may have been telling myself, look, this whole detective thing is just way too hard without a buzz\n",
            "There's too much friction\n",
            "I can't talk to people\n",
            "I can't think straight\n",
            "I'm going to do this other thing that's still difficult, but maybe it will help reduce the amount of friction in this other bigger, more difficult task\n",
            "And then we'll go do it\n",
            "And that is an example of totally made up perceived fake friction\n",
            "Like smoking cigarettes doesn't actually make us a better detective\n",
            "Like, it gives us maybe a false sense of like plus one to our intellect\n",
            "But we may have convinced ourselves as many people who are struggling with substances do that we are inadequate or unable to perform a certain task without this thing\n",
            "And so like we look at that and say, no, there's too much friction\n",
            "I can't do that\n",
            "It's too hard\n",
            "Having this substance will make it easier\n",
            "When really what we have done is just choose something that's equally hard and we're reinforcing a bad pattern of behavior\n",
            "And one that's pretty bad for us\n",
            "So that was a demonstration of the perceived kind of friction, right\n",
            "Then this happened again, nearing the end of our first day in Revishall, in which my character had also been searching for ways to drink alcohol\n",
            "And so we come to the end of the day and we hadn't really found any opportunities to do that besides like licking some alcohol off of a table\n",
            "But so we're standing there at the end of the day and we're talking to Gart who is the manager of the whirling and rags and we're asking him like, can I buy a drink\n",
            "Look I've had a long day, okay\n",
            "I spent most of it looking for cigarettes and then I did a little bit of detective work and it has tired me out, okay\n",
            "Now I need the other substance that I'm dependent on to sleep all of this off\n",
            "And that's when Gart tells us like, dude, I'm not the bartender, okay\n",
            "I don't actually serve drinks here\n",
            "Find another way to get drunk\n",
            "You know what\n",
            "The impact of rejection is stronger than the impulse to drink from my guy right now as a sorry cop\n",
            "I abandoned, I'm going to abandon the desire to drink because I am too ashamed to ask further\n",
            "He effectively made it more difficult for us to do this and in my mind and in simulating the character's perspective, like we decided that this was just too much work, right\n",
            "Like we're already tired enough\n",
            "Who knows how much more time and effort and money this was going to take to get some alcohol, right\n",
            "And so we gave up\n",
            "There was too much friction introduced to the process that it would involve talking to people, it would have involved budgeting, it would have involved embarrassing ourselves even more\n",
            "And so with a lot of friction introduced to the process, this slowed down and has the potential to completely interrupt the problem behavior\n",
            "So I just find this whole thing fascinating that the voice of Elisha represents what is in real life just our good intentions to make healthy balance decisions for ourselves\n",
            "And yet typically the things that it wants us to do require a lot of effort, a lot of deep behavioral changes and there are often a lot of barriers in between us and doing them\n",
            "And here you have like other voices which have not so great intentions for us in competition with volition and there's way less friction involved in those\n",
            "And so we chase those impulses even though we know we shouldn't\n",
            "That is just real life\n",
            "And I love Disco Elysium for this\n",
            "It's been one of my favorite parts of the game so far\n",
            "So what can you take away from this\n",
            "Consider a change that you've been trying to make recently or a habit that you're trying to break and ask yourself, like what is the friction involved in this process, right\n",
            "Like what is making it hard for me to make this good change\n",
            "And is that a real source of friction or is it one that I'm kind of like perceiving\n",
            "Because at the end of the day we choose to ignore a volition even though we know it's there and that it actually wants something better for us\n",
            "I genuinely think that making a change is not always about working harder at something\n",
            "In fact, a lot of times I think it's about making the process easier, right\n",
            "Simpler, streamlined, with the least amount of friction\n",
            "And you may find that over time, just like any other habit, the more you train yourself to detect and resolve the sources of friction in your life, you actually find it a little easier to listen to volition when it talks to you\n",
            "So that is why we ignore a volition in real life\n",
            "I am very curious to hear what all of you think about this\n",
            "And if there's anything that you can think of that is a source of friction in your life that you may not even even really know is there\n",
            "So far, disco-aliceum has been amazing at like bringing together real mental health with practical game mechanics\n",
            "And I find that really fun to talk about\n",
            "So I'm also curious if there's other games and other systems in them that you think would be worthy of this kind of analysis as well\n",
            "Who knows\n",
            "Maybe this could be like a series or something where we talk about like the crossover between game design and mental health and how mechanics can represent real cognitive structures that we use and deal with every day\n",
            "So thank you for watching my video\n",
            "I hope you enjoyed it\n",
            "Yeah, let me know if you'd like to hear more of this kind of discussion with other game mechanics\n",
            "And if you want to see more of where these ideas are kind of taking shape and the discussions we're having about them, we're currently uploading a full Let's Play of disco-aliceum with lots of like psychological analysis intermixed in that\n",
            "So subscribe if you want to catch those as they release or other standalone analyses like this one\n",
            "Right now these two are the friction between me and finishing this video\n",
            "It's okay, I love them\n",
            "So with that said, I will see you guys next time\n",
            "I'm going to go try to make some of my own good decisions right now\n"
          ]
        }
      ]
    },
    {
      "cell_type": "code",
      "source": [
        "cleaned_text = data[\"text\"].replace(\",\", \"\").replace(\".\", \"\").replace(\"!\", \"\").replace(\"?\", \"\")"
      ],
      "metadata": {
        "id": "EmED6RbyFddf"
      },
      "execution_count": null,
      "outputs": []
    },
    {
      "cell_type": "code",
      "source": [
        "print(cleaned_text)"
      ],
      "metadata": {
        "colab": {
          "base_uri": "https://localhost:8080/"
        },
        "id": "9_HdGJvYowqE",
        "outputId": "fe762dcd-a256-41d1-b065-1e87a03eca08"
      },
      "execution_count": null,
      "outputs": [
        {
          "output_type": "stream",
          "name": "stdout",
          "text": [
            " Okay let's talk about why we make bad decisions So if you're like me then you've probably been in that situation where it's the end of the day or it's the morning and you're thinking like okay I'm going to make a solid plan for myself Today I'm going to be disciplined I'm going to come home from work and I'm going to get all these errands done and I'm going to treat myself really well I'm going to make a nice healthy proper meal I'm going to go to the gym afterwards I'm going to exercise and then maybe when I come home I'll like start reading a book or something I'll do something a little different Something that makes me feel like I'm going to advance my life in a new positive direction This is our real life volition and it's there to lead you on your way to making good life decisions But this doesn't always work out that way Sometimes you get to the end of the day and you realize that you haven't been very disciplined At all A lot of those errands are still incomplete or half-started We didn't end up going to the gym and instead of making a proper meal we've ordered some definitely not healthy takeout food And instead of reading that book maybe you end up watching a show you've already seen and we've not advanced our life in a positive meaningful direction in any way at all What is happening here Why would we ignore the voice of volition that's telling us to do all of these beneficial positive things Well it could be a lot of things honestly And definitely having a mental health diagnosis is going to amplify this problem a lot more But even for the average person this happens pretty often I mean it certainly happens to me So what I wanted to share with you today is a framework for understanding why this problem happens and what we can actually do about it This is a real problem that actually comes up in my work as a therapist kind of often And I have really enjoyed seeing it demonstrated so clearly and given such a unique role within the structure of a game like Disco Elysium has So okay there is a reason that we do not always follow the voice of volition and go through with our good intentions And it has to do with something called psychological friction So in this context friction is any force either internal or external which opposes a behavioral change So what do we know about like regular friction right If I am standing on an ice rink and I move my body weight around a little bit I'm going to start sliding around on the ice There's not a lot of friction between me and the surface that's under me When I step off the ice and now I'm standing on concrete when I shift myself around I don't move right There is a lot more friction between me and the ground And psychologically this principle is basically the same thing If you imagine you're trying to do something it's going to be much harder if there is more friction between you and the process and it's going to be much easier if there is less friction When friction is introduced and we'll talk about what kinds of friction are very common the process tends to slow down We tend to have a harder time actually completing the thing we're trying to do and it's much more likely that we're going to give up When there is less friction or we find a way to reduce the friction that's there the process can start to speed up again and we'll find more motivation to actually keep working on it Really we can kind of think of this how habits work right When you're trying to do something new it can be hard to stay motivated and be consistent and be very disciplined in it We have to be very rigorous and consistent with things before they start to get easier and we have to do less work to get ourselves in the mindset to do it Like if we're trying to start an exercise regiment or something so there's a lot of friction between us and this new behavioral change Things start to get easier when we learn more about that process and we start developing sort of like the mental tricks to get ourselves into that kind of mode where we want to do it We don't have to convince ourselves anymore and our stamina to do the thing that's difficult starts to go up and there's a lot less friction here We start to develop that habit when the process becomes streamlined and simplified and we have to do less of the psychological work to get ourselves moving on it So basically the things that we tend to do the most and the patterns of behavior that we tend to repeat are those where the amount of friction between us and the process is very minimal So this is part of why when we tell ourselves we're going to do all of these nice things a lot of friction tends to get introduced in that process because thinking about doing all of those things isn't really that hard but when it comes down to it it takes an extra layer of scheduling and timing and trying to like balance your energy throughout the day you better make sure that you slept enough ate well enough to that you're hydrated that you actually have the motivation at the time you're trying to do that thing to actually start it Honestly at the end of a long day we're not typically still in the high motivation state that we were at the beginning of the day when volition was telling us how awesome we're going to be sometime later We are not always interested or capable sometimes of fighting against all of the friction that has found us along the way So we choose things that are less difficult right The kinds of habits that we've already formed that we know work that don't require a lot of mental fortitude to carry out Volition asks us to do things which are good for us but that they are difficult to accomplish And so it's often the voices of half-light or electrochemistry that give us other options and don't ask us to fight against a bunch of friction They just want us to chase whatever impulse makes sense in the moment You should tell people to f*** off more often I should I should do that Then you shouldn't You're an officer of the law Maybe I shouldn't So this has been really fascinating to see portrayed in disco-alecium because in my playthrough I've been kind of role-playing and demonstrating this whole problem right And so sometimes volition will chime in with a thought and I just ignore it And I go do something that for a lot of people looks like it's not really within my character's best interest and they're right But that's how people are We are kind of walking contradictions We just don't always act in our own best interests Like I said even though the thought to do something good is available to us that doesn't mean we're actually going to do it In fact we're very keenly aware a lot of the times that we are doing something that's not in our best interest And we're pulling the ice cream out of the fridge and telling ourselves along the way I really shouldn't But I'm gonna anyway So this is a real problem right And the game is so good at demonstrating this So what do you do about this right I like the word friction because it gives us a very easy framework to understand And so when I'm working with someone who is struggling with motivation or a lot of times we're sort of questioning like I'm very passionate about this thing but I don't find myself doing it a lot Like I don't know what's wrong with me Maybe I've lost interest in it That's where we may start to ask the question okay well what kind of friction is in this process for you and how might we start to work to reduce it And the best place to start is actually trying to understand whether this friction is even real or not because that's the thing There is real psychological friction and perceived psychological friction Now that is not to say that friction by itself is a bad thing In fact there are some cases where introducing friction to some sort of behavioral process is actually a good thing Think about an addiction for example right which is a big part of dysgolism where the habit to seek and use a substance has become very normalized for us and we're always looking to have the least amount of friction between us and continuing that substance use And so actually when you're trying to work on breaking a habit or lower the chances that an addiction develops you actually want to introduce friction to the process Essentially making things harder is going to slow down and make completely interrupt the process that we are trying to change This is why when people are trying to quit a substance they typically go to a detox center and then they go into full rehabilitation And that's to completely separate themselves from the environment and all of the social and psychological issues which made repeating that pattern of behavior very easy We want to introduce a ton of friction to this person's life temporarily so that we can learn to develop better strategies to cope with the issues that resulted in some sort of addiction So this was all pretty well demonstrated in my own playthrough in which we spent a lot of time trying to find a way to buy a pack of cigarettes and I was explaining how when we have a chemical dependence on something we are often going to prioritize that over most other things higher order things like solving a crime or strengthening our relationships Also the thought pattern may have been something like okay well our character wants to smoke How do I do that What's the simplest path here I want to find the way with the least amount of friction like I need this now So we go into Frita and Frita girl is there And she tells us that we don't have the money for cigarettes There's a way that we can get the money for cigarettes What we can do is we can collect tear and tear is trash And so what we can do is try to find a bag so that we can pick up all the tear and revisher and we'll spend as much time as we need to collecting this so that we can go and buy the cigarettes And that sounds like kind of a difficult drawn out process And it was however there was less friction in doing that than there would be if I tried to solve this murder without the stimulant that my body is craving I may have been telling myself look this whole detective thing is just way too hard without a buzz There's too much friction I can't talk to people I can't think straight I'm going to do this other thing that's still difficult but maybe it will help reduce the amount of friction in this other bigger more difficult task And then we'll go do it And that is an example of totally made up perceived fake friction Like smoking cigarettes doesn't actually make us a better detective Like it gives us maybe a false sense of like plus one to our intellect But we may have convinced ourselves as many people who are struggling with substances do that we are inadequate or unable to perform a certain task without this thing And so like we look at that and say no there's too much friction I can't do that It's too hard Having this substance will make it easier When really what we have done is just choose something that's equally hard and we're reinforcing a bad pattern of behavior And one that's pretty bad for us So that was a demonstration of the perceived kind of friction right Then this happened again nearing the end of our first day in Revishall in which my character had also been searching for ways to drink alcohol And so we come to the end of the day and we hadn't really found any opportunities to do that besides like licking some alcohol off of a table But so we're standing there at the end of the day and we're talking to Gart who is the manager of the whirling and rags and we're asking him like can I buy a drink Look I've had a long day okay I spent most of it looking for cigarettes and then I did a little bit of detective work and it has tired me out okay Now I need the other substance that I'm dependent on to sleep all of this off And that's when Gart tells us like dude I'm not the bartender okay I don't actually serve drinks here Find another way to get drunk You know what The impact of rejection is stronger than the impulse to drink from my guy right now as a sorry cop I abandoned I'm going to abandon the desire to drink because I am too ashamed to ask further He effectively made it more difficult for us to do this and in my mind and in simulating the character's perspective like we decided that this was just too much work right Like we're already tired enough Who knows how much more time and effort and money this was going to take to get some alcohol right And so we gave up There was too much friction introduced to the process that it would involve talking to people it would have involved budgeting it would have involved embarrassing ourselves even more And so with a lot of friction introduced to the process this slowed down and has the potential to completely interrupt the problem behavior So I just find this whole thing fascinating that the voice of Elisha represents what is in real life just our good intentions to make healthy balance decisions for ourselves And yet typically the things that it wants us to do require a lot of effort a lot of deep behavioral changes and there are often a lot of barriers in between us and doing them And here you have like other voices which have not so great intentions for us in competition with volition and there's way less friction involved in those And so we chase those impulses even though we know we shouldn't That is just real life And I love Disco Elysium for this It's been one of my favorite parts of the game so far So what can you take away from this Consider a change that you've been trying to make recently or a habit that you're trying to break and ask yourself like what is the friction involved in this process right Like what is making it hard for me to make this good change And is that a real source of friction or is it one that I'm kind of like perceiving Because at the end of the day we choose to ignore a volition even though we know it's there and that it actually wants something better for us I genuinely think that making a change is not always about working harder at something In fact a lot of times I think it's about making the process easier right Simpler streamlined with the least amount of friction And you may find that over time just like any other habit the more you train yourself to detect and resolve the sources of friction in your life you actually find it a little easier to listen to volition when it talks to you So that is why we ignore a volition in real life I am very curious to hear what all of you think about this And if there's anything that you can think of that is a source of friction in your life that you may not even even really know is there So far disco-aliceum has been amazing at like bringing together real mental health with practical game mechanics And I find that really fun to talk about So I'm also curious if there's other games and other systems in them that you think would be worthy of this kind of analysis as well Who knows Maybe this could be like a series or something where we talk about like the crossover between game design and mental health and how mechanics can represent real cognitive structures that we use and deal with every day So thank you for watching my video I hope you enjoyed it Yeah let me know if you'd like to hear more of this kind of discussion with other game mechanics And if you want to see more of where these ideas are kind of taking shape and the discussions we're having about them we're currently uploading a full Let's Play of disco-aliceum with lots of like psychological analysis intermixed in that So subscribe if you want to catch those as they release or other standalone analyses like this one Right now these two are the friction between me and finishing this video It's okay I love them So with that said I will see you guys next time I'm going to go try to make some of my own good decisions right now\n"
          ]
        }
      ]
    },
    {
      "cell_type": "markdown",
      "source": [
        "## Sentence segamentation"
      ],
      "metadata": {
        "id": "rEHKmslXrRXu"
      }
    },
    {
      "cell_type": "code",
      "source": [
        "# Import the Python SDK\n",
        "import google.generativeai as genai\n",
        "\n",
        "genai.configure(api_key='YOUR_KEY')"
      ],
      "metadata": {
        "id": "mq_J1IZWrVJn"
      },
      "execution_count": null,
      "outputs": []
    },
    {
      "cell_type": "code",
      "source": [
        "model = genai.GenerativeModel(\"gemini-1.5-flash\")"
      ],
      "metadata": {
        "id": "WBt6pX02rXU5"
      },
      "execution_count": null,
      "outputs": []
    },
    {
      "cell_type": "code",
      "source": [
        "text = data[\"text\"]"
      ],
      "metadata": {
        "id": "h54n1gz3rbyC"
      },
      "execution_count": null,
      "outputs": []
    },
    {
      "cell_type": "code",
      "source": [
        "# Segmentation function\n",
        "def segment_text_gemini(model, text, max_length=50):\n",
        "    prompt = f\"\"\"\n",
        "    These resultes will be used as captions for video.\n",
        "    Try to make sentences grammatically complete.\n",
        "    Do not change any words from the input text.\n",
        "    Segment the following text into new sentences with each sentence no longer than {max_length} characters: \\n\\n{text}\n",
        "    \"\"\"\n",
        "\n",
        "    # Send request to model\n",
        "    response = model.generate_content(prompt)\n",
        "    return response\n",
        "\n",
        "# Get segmented text\n",
        "segmented_output = segment_text_gemini(model, text)"
      ],
      "metadata": {
        "id": "mtdPJpVArTS6"
      },
      "execution_count": null,
      "outputs": []
    },
    {
      "cell_type": "code",
      "source": [
        "print(segmented_output.text)"
      ],
      "metadata": {
        "id": "HYV096BjsOIO"
      },
      "execution_count": null,
      "outputs": []
    },
    {
      "cell_type": "code",
      "source": [
        "\"\"\"\n",
        "Okay let's talk about why we make bad decisions\n",
        "So if you're like me then you've probably been in that situation\n",
        "where it's the end of the day or it's the morning\n",
        "and you're thinking like okay I'm going to make a solid plan for myself\n",
        "Today I'm going to be disciplined\n",
        "I'm going to come home from work and I'm going to get all these errands done\n",
        "and I'm going to treat myself really well\n",
        "I'm going to make a nice healthy proper meal\n",
        "I'm going to go to the gym afterwards\n",
        "I'm going to exercise and th\n",
        "\"\"\""
      ],
      "metadata": {
        "id": "ZZqJ5tBSt0fI"
      },
      "execution_count": null,
      "outputs": []
    }
  ],
  "metadata": {
    "kernelspec": {
      "display_name": "Python 3",
      "name": "python3"
    },
    "language_info": {
      "name": "python",
      "version": "3.9.19"
    },
    "colab": {
      "provenance": []
    }
  },
  "nbformat": 4,
  "nbformat_minor": 0
}
