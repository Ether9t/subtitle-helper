{
 "cells": [
  {
   "cell_type": "code",
   "execution_count": 1,
   "metadata": {},
   "outputs": [
    {
     "name": "stdout",
     "output_type": "stream",
     "text": [
      "Requirement already satisfied: yt-dlp in e:\\anaconda3\\envs\\py39\\lib\\site-packages (2024.10.7)\n",
      "Requirement already satisfied: moviepy in e:\\anaconda3\\envs\\py39\\lib\\site-packages (1.0.3)\n",
      "Requirement already satisfied: whisper-timestamped in e:\\anaconda3\\envs\\py39\\lib\\site-packages\\whisper_timestamped-1.15.4-py3.9.egg (1.15.4)\n",
      "Requirement already satisfied: numpy in e:\\anaconda3\\envs\\py39\\lib\\site-packages (2.0.2)\n",
      "Requirement already satisfied: PyQt5 in e:\\anaconda3\\envs\\py39\\lib\\site-packages (5.15.11)\n",
      "Requirement already satisfied: brotli in e:\\anaconda3\\envs\\py39\\lib\\site-packages (from yt-dlp) (1.0.9)\n",
      "Requirement already satisfied: certifi in e:\\anaconda3\\envs\\py39\\lib\\site-packages (from yt-dlp) (2024.8.30)\n",
      "Requirement already satisfied: mutagen in e:\\anaconda3\\envs\\py39\\lib\\site-packages (from yt-dlp) (1.47.0)\n",
      "Requirement already satisfied: pycryptodomex in e:\\anaconda3\\envs\\py39\\lib\\site-packages (from yt-dlp) (3.21.0)\n",
      "Requirement already satisfied: requests<3,>=2.32.2 in e:\\anaconda3\\envs\\py39\\lib\\site-packages (from yt-dlp) (2.32.3)\n",
      "Requirement already satisfied: urllib3<3,>=1.26.17 in e:\\anaconda3\\envs\\py39\\lib\\site-packages (from yt-dlp) (2.2.2)\n",
      "Requirement already satisfied: websockets>=13.0 in e:\\anaconda3\\envs\\py39\\lib\\site-packages (from yt-dlp) (13.1)\n",
      "Requirement already satisfied: decorator<5.0,>=4.0.2 in e:\\anaconda3\\envs\\py39\\lib\\site-packages (from moviepy) (4.4.2)\n",
      "Requirement already satisfied: tqdm<5.0,>=4.11.2 in e:\\anaconda3\\envs\\py39\\lib\\site-packages (from moviepy) (4.66.5)\n",
      "Requirement already satisfied: proglog<=1.0.0 in e:\\anaconda3\\envs\\py39\\lib\\site-packages (from moviepy) (0.1.10)\n",
      "Requirement already satisfied: imageio<3.0,>=2.5 in e:\\anaconda3\\envs\\py39\\lib\\site-packages (from moviepy) (2.36.0)\n",
      "Requirement already satisfied: imageio-ffmpeg>=0.2.0 in e:\\anaconda3\\envs\\py39\\lib\\site-packages (from moviepy) (0.5.1)\n",
      "Requirement already satisfied: Cython in e:\\anaconda3\\envs\\py39\\lib\\site-packages\\cython-3.0.11-py3.9.egg (from whisper-timestamped) (3.0.11)\n",
      "Requirement already satisfied: dtw-python in e:\\anaconda3\\envs\\py39\\lib\\site-packages\\dtw_python-1.5.3-py3.9-win-amd64.egg (from whisper-timestamped) (1.5.3)\n",
      "Requirement already satisfied: openai-whisper in e:\\anaconda3\\envs\\py39\\lib\\site-packages (from whisper-timestamped) (20230124)\n",
      "Requirement already satisfied: PyQt5-sip<13,>=12.15 in e:\\anaconda3\\envs\\py39\\lib\\site-packages (from PyQt5) (12.15.0)\n",
      "Requirement already satisfied: PyQt5-Qt5<5.16.0,>=5.15.2 in e:\\anaconda3\\envs\\py39\\lib\\site-packages (from PyQt5) (5.15.2)\n",
      "Requirement already satisfied: pillow>=8.3.2 in e:\\anaconda3\\envs\\py39\\lib\\site-packages (from imageio<3.0,>=2.5->moviepy) (10.4.0)\n",
      "Requirement already satisfied: setuptools in e:\\anaconda3\\envs\\py39\\lib\\site-packages (from imageio-ffmpeg>=0.2.0->moviepy) (72.1.0)\n",
      "Requirement already satisfied: charset-normalizer<4,>=2 in e:\\anaconda3\\envs\\py39\\lib\\site-packages (from requests<3,>=2.32.2->yt-dlp) (3.3.2)\n",
      "Requirement already satisfied: idna<4,>=2.5 in e:\\anaconda3\\envs\\py39\\lib\\site-packages (from requests<3,>=2.32.2->yt-dlp) (3.7)\n",
      "Requirement already satisfied: colorama in e:\\anaconda3\\envs\\py39\\lib\\site-packages (from tqdm<5.0,>=4.11.2->moviepy) (0.4.6)\n",
      "Requirement already satisfied: scipy in e:\\anaconda3\\envs\\py39\\lib\\site-packages (from dtw-python->whisper-timestamped) (1.13.1)\n",
      "Requirement already satisfied: torch in e:\\anaconda3\\envs\\py39\\lib\\site-packages (from openai-whisper->whisper-timestamped) (2.3.0)\n",
      "Requirement already satisfied: more-itertools in e:\\anaconda3\\envs\\py39\\lib\\site-packages\\setuptools\\_vendor (from openai-whisper->whisper-timestamped) (10.3.0)\n",
      "Requirement already satisfied: transformers>=4.19.0 in e:\\anaconda3\\envs\\py39\\lib\\site-packages (from openai-whisper->whisper-timestamped) (4.39.3)\n",
      "Requirement already satisfied: ffmpeg-python==0.2.0 in e:\\anaconda3\\envs\\py39\\lib\\site-packages (from openai-whisper->whisper-timestamped) (0.2.0)\n",
      "Requirement already satisfied: future in e:\\anaconda3\\envs\\py39\\lib\\site-packages (from ffmpeg-python==0.2.0->openai-whisper->whisper-timestamped) (1.0.0)\n",
      "Requirement already satisfied: filelock in e:\\anaconda3\\envs\\py39\\lib\\site-packages (from transformers>=4.19.0->openai-whisper->whisper-timestamped) (3.13.1)\n",
      "Requirement already satisfied: huggingface-hub<1.0,>=0.19.3 in e:\\anaconda3\\envs\\py39\\lib\\site-packages (from transformers>=4.19.0->openai-whisper->whisper-timestamped) (0.24.6)\n",
      "Requirement already satisfied: packaging>=20.0 in e:\\anaconda3\\envs\\py39\\lib\\site-packages (from transformers>=4.19.0->openai-whisper->whisper-timestamped) (24.1)\n",
      "Requirement already satisfied: pyyaml>=5.1 in e:\\anaconda3\\envs\\py39\\lib\\site-packages (from transformers>=4.19.0->openai-whisper->whisper-timestamped) (6.0.1)\n",
      "Requirement already satisfied: regex!=2019.12.17 in e:\\anaconda3\\envs\\py39\\lib\\site-packages (from transformers>=4.19.0->openai-whisper->whisper-timestamped) (2024.9.11)\n",
      "Requirement already satisfied: tokenizers<0.19,>=0.14 in e:\\anaconda3\\envs\\py39\\lib\\site-packages (from transformers>=4.19.0->openai-whisper->whisper-timestamped) (0.15.2)\n",
      "Requirement already satisfied: safetensors>=0.4.1 in e:\\anaconda3\\envs\\py39\\lib\\site-packages (from transformers>=4.19.0->openai-whisper->whisper-timestamped) (0.4.5)\n",
      "Requirement already satisfied: typing-extensions>=4.8.0 in e:\\anaconda3\\envs\\py39\\lib\\site-packages (from torch->openai-whisper->whisper-timestamped) (4.11.0)\n",
      "Requirement already satisfied: sympy in e:\\anaconda3\\envs\\py39\\lib\\site-packages (from torch->openai-whisper->whisper-timestamped) (1.13.2)\n",
      "Requirement already satisfied: networkx in e:\\anaconda3\\envs\\py39\\lib\\site-packages (from torch->openai-whisper->whisper-timestamped) (3.2.1)\n",
      "Requirement already satisfied: jinja2 in e:\\anaconda3\\envs\\py39\\lib\\site-packages (from torch->openai-whisper->whisper-timestamped) (3.1.4)\n",
      "Requirement already satisfied: fsspec in e:\\anaconda3\\envs\\py39\\lib\\site-packages (from torch->openai-whisper->whisper-timestamped) (2024.6.1)\n",
      "Requirement already satisfied: mkl<=2021.4.0,>=2021.1.1 in e:\\anaconda3\\envs\\py39\\lib\\site-packages (from torch->openai-whisper->whisper-timestamped) (2021.4.0)\n",
      "Requirement already satisfied: intel-openmp==2021.* in e:\\anaconda3\\envs\\py39\\lib\\site-packages (from mkl<=2021.4.0,>=2021.1.1->torch->openai-whisper->whisper-timestamped) (2021.4.0)\n",
      "Requirement already satisfied: tbb==2021.* in e:\\anaconda3\\envs\\py39\\lib\\site-packages (from mkl<=2021.4.0,>=2021.1.1->torch->openai-whisper->whisper-timestamped) (2021.13.1)\n",
      "Requirement already satisfied: MarkupSafe>=2.0 in e:\\anaconda3\\envs\\py39\\lib\\site-packages (from jinja2->torch->openai-whisper->whisper-timestamped) (2.1.3)\n",
      "Requirement already satisfied: mpmath<1.4,>=1.1.0 in e:\\anaconda3\\envs\\py39\\lib\\site-packages (from sympy->torch->openai-whisper->whisper-timestamped) (1.3.0)\n"
     ]
    }
   ],
   "source": [
    "!pip install yt-dlp moviepy whisper-timestamped numpy PyQt5"
   ]
  },
  {
   "cell_type": "code",
   "execution_count": 2,
   "metadata": {},
   "outputs": [
    {
     "name": "stdout",
     "output_type": "stream",
     "text": [
      "Importing the dtw module. When using in academic works please cite:\n",
      "  T. Giorgino. Computing and Visualizing Dynamic Time Warping Alignments in R: The dtw Package.\n",
      "  J. Stat. Soft., doi:10.18637/jss.v031.i07.\n",
      "\n"
     ]
    }
   ],
   "source": [
    "import os\n",
    "import json\n",
    "import numpy as np\n",
    "import whisper_timestamped\n",
    "from moviepy.editor import VideoFileClip\n",
    "import yt_dlp"
   ]
  },
  {
   "cell_type": "code",
   "execution_count": 3,
   "metadata": {},
   "outputs": [],
   "source": [
    "def download_audio_from_youtube(url):\n",
    "    try:\n",
    "        ydl_opts = {\n",
    "            'format': 'bestaudio/best',\n",
    "            'outtmpl': '%(id)s.%(ext)s',\n",
    "            'postprocessors': [{\n",
    "                'key': 'FFmpegExtractAudio',\n",
    "                'preferredcodec': 'wav',\n",
    "                'preferredquality': '192',\n",
    "            }],\n",
    "        }\n",
    "\n",
    "        with yt_dlp.YoutubeDL(ydl_opts) as ydl:\n",
    "            info_dict = ydl.extract_info(url, download=True)\n",
    "            audio_file = f\"{info_dict['id']}.wav\"\n",
    "            return audio_file\n",
    "        \n",
    "    except Exception as e:\n",
    "        return str(e)"
   ]
  },
  {
   "cell_type": "code",
   "execution_count": 4,
   "metadata": {},
   "outputs": [],
   "source": [
    "def extract_audio_from_video(video_file):\n",
    "    try:\n",
    "        audio_file = \"extracted_audio.wav\"\n",
    "        video_clip = VideoFileClip(video_file)\n",
    "        video_clip.audio.write_audiofile(audio_file, codec='pcm_s16le', ffmpeg_params=[\"-ac\", \"1\", \"-ar\", \"16000\"])\n",
    "        return audio_file\n",
    "    \n",
    "    except Exception as e:\n",
    "        return str(e)"
   ]
  },
  {
   "cell_type": "code",
   "execution_count": 5,
   "metadata": {},
   "outputs": [],
   "source": [
    "def process_audio(audio_file):\n",
    "    try:\n",
    "        print(\"Processing audio file:\", os.path.abspath(audio_file))\n",
    "        if not os.path.exists(audio_file):\n",
    "            return \"Audio file does not exist.\"\n",
    "\n",
    "        audio = whisper_timestamped.load_audio(audio_file)\n",
    "        audio = audio / np.max(np.abs(audio))  # Normalize audio\n",
    "        model = whisper_timestamped.load_model(\"base\", device=\"cpu\")\n",
    "        result = whisper_timestamped.transcribe_timestamped(model, audio, language=\"en\")\n",
    "\n",
    "        # Save results to SRT file\n",
    "        writer = whisper_timestamped.utils.get_writer(\"srt\", \".\")\n",
    "        writer(result, \"output\")\n",
    "        print(f\"SRT file saved: transcription.srt\")\n",
    "\n",
    "        # Save results to JSON file\n",
    "        json_output_file = \"output.json\"\n",
    "        with open(json_output_file, 'w', encoding='utf-8') as json_file:\n",
    "            json.dump(result, json_file, indent=2, ensure_ascii=False)\n",
    "        print(f\"JSON file saved: {json_output_file}\")\n",
    "\n",
    "        return \"Transcription completed\"\n",
    "    \n",
    "    except Exception as e:\n",
    "        return str(e)"
   ]
  },
  {
   "cell_type": "code",
   "execution_count": 6,
   "metadata": {},
   "outputs": [
    {
     "name": "stdout",
     "output_type": "stream",
     "text": [
      "[youtube] Extracting URL: https://www.youtube.com/watch?v=FKvVIThWYYo\n",
      "[youtube] FKvVIThWYYo: Downloading webpage\n",
      "[youtube] FKvVIThWYYo: Downloading ios player API JSON\n",
      "[youtube] FKvVIThWYYo: Downloading mweb player API JSON\n",
      "[youtube] FKvVIThWYYo: Downloading m3u8 information\n",
      "[info] FKvVIThWYYo: Downloading 1 format(s): 251\n",
      "[download] Destination: FKvVIThWYYo.webm\n",
      "[download] 100% of   14.64MiB in 00:00:06 at 2.28MiB/s   \n",
      "[ExtractAudio] Destination: FKvVIThWYYo.wav\n",
      "Deleting original file FKvVIThWYYo.webm (pass -k to keep)\n",
      "Processing audio file: d:\\Study\\3\\Natural language processing\\Group-project\\FKvVIThWYYo.wav\n"
     ]
    },
    {
     "name": "stderr",
     "output_type": "stream",
     "text": [
      "100%|██████████| 104858/104858 [04:39<00:00, 375.25frames/s]\n"
     ]
    },
    {
     "name": "stdout",
     "output_type": "stream",
     "text": [
      "SRT file saved: transcription.srt\n",
      "JSON file saved: output.json\n",
      "Transcription completed\n"
     ]
    }
   ],
   "source": [
    "youtube_url = 'https://www.youtube.com/watch?v=FKvVIThWYYo'  # Change this to your YouTube URL\n",
    "audio_file = download_audio_from_youtube(youtube_url)\n",
    "if audio_file:\n",
    "    result = process_audio(audio_file)\n",
    "    print(result)"
   ]
  },
  {
   "cell_type": "code",
   "execution_count": 7,
   "metadata": {},
   "outputs": [
    {
     "name": "stdout",
     "output_type": "stream",
     "text": [
      "Processing audio file: d:\\Study\\3\\Natural language processing\\Group-project\\MoviePy error: the file path_to_your_video_file.mp4 could not be found!\n",
      "Please check that you entered the correct path\n",
      "Audio file does not exist.\n"
     ]
    }
   ],
   "source": [
    "video_file = 'path_to_your_video_file.mp4'  # Change this to your video file path\n",
    "audio_file = extract_audio_from_video(video_file)\n",
    "if audio_file:\n",
    "    result = process_audio(audio_file)\n",
    "    print(result)"
   ]
  }
 ],
 "metadata": {
  "kernelspec": {
   "display_name": "py39",
   "language": "python",
   "name": "python3"
  },
  "language_info": {
   "codemirror_mode": {
    "name": "ipython",
    "version": 3
   },
   "file_extension": ".py",
   "mimetype": "text/x-python",
   "name": "python",
   "nbconvert_exporter": "python",
   "pygments_lexer": "ipython3",
   "version": "3.9.19"
  }
 },
 "nbformat": 4,
 "nbformat_minor": 2
}
